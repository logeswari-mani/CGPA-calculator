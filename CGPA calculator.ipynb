{
 "cells": [
  {
   "cell_type": "code",
   "execution_count": 1,
   "id": "0b0f8d2f",
   "metadata": {},
   "outputs": [
    {
     "name": "stdout",
     "output_type": "stream",
     "text": [
      "Enter your name:sana\n",
      "Enter the regulation:2017\n"
     ]
    }
   ],
   "source": [
    "name = str(input(\"Enter your name:\"))\n",
    "reg =int(input(\"Enter the regulation:\"))\n",
    "def cgpaCalculator():\n",
    "\tTotalmark= 0\n",
    "\tGrade = 0\n",
    "\n",
    "\tnumberOfSubject = int(input(\"Enter the number of Subject: \"))\n",
    "\tfor i in range(numberOfSubject):\n",
    "\t\tsubject = input(\"Enter The Subject code:\")\n",
    "\t\tunit = int(input (\"no of unit: \"))\n",
    "\t\tmark = int(input(\"Enter the mark:\"))\n",
    "\t\tprint (\"\")\n",
    "\t\tTotalmark += unit*5\n",
    "\n",
    "\n",
    "\t\t#cases for grade (90-100 = 5 points , 80-90 = 4 points , 70-80 = 3 points ,60-70 = 2 points , 50-60 = 1 point , lesser than 50 = 0 points)\n",
    "\t\tif (mark >= 90):\n",
    "\t\t\tgrade = 5\n",
    "\t\telif(mark < 90 and  mark >= 80):\n",
    "\t\t\tgrade = 4 \n",
    "\t\telif(mark < 80 and  mark >= 70 ):\n",
    "\t\t\tgrade = 3\n",
    "\t\telif(mark < 70 and mark >=60):\n",
    "\t\t\tgrade = 2\n",
    "\t\telif (mark < 60 and mark>=50):\n",
    "\t\t\tgrade = 1\n",
    "\t\telse :\n",
    "\t\t\tgrade = 0 \n",
    "\n",
    "\n",
    "\t\tGrade += unit*grade\n",
    "\n",
    "\tCgpa =float((Grade / Totalmark) * 5)\n",
    "\tprint(\"YOUR CGPA IS : \" + str(Cgpa))"
   ]
  },
  {
   "cell_type": "code",
   "execution_count": null,
   "id": "17e2101a",
   "metadata": {},
   "outputs": [],
   "source": []
  }
 ],
 "metadata": {
  "kernelspec": {
   "display_name": "Python 3 (ipykernel)",
   "language": "python",
   "name": "python3"
  },
  "language_info": {
   "codemirror_mode": {
    "name": "ipython",
    "version": 3
   },
   "file_extension": ".py",
   "mimetype": "text/x-python",
   "name": "python",
   "nbconvert_exporter": "python",
   "pygments_lexer": "ipython3",
   "version": "3.9.7"
  }
 },
 "nbformat": 4,
 "nbformat_minor": 5
}
